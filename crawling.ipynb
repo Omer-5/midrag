{
 "cells": [
  {
   "cell_type": "code",
   "execution_count": 2,
   "metadata": {},
   "outputs": [],
   "source": [
    "from selenium import webdriver\n",
    "from selenium.webdriver.common.by import By\n",
    "\n",
    "import pandas as pd\n",
    "import re\n",
    " \n",
    "driver = webdriver.Firefox()"
   ]
  },
  {
   "cell_type": "code",
   "execution_count": 39,
   "metadata": {},
   "outputs": [],
   "source": [
    "# Extract all categories links and names\n",
    "def Categories_To_CSV():\n",
    "    driver.get(\"https://www.midrag.co.il/Content/MainFeedbacksIndex\")\n",
    "\n",
    "    categories = driver.find_elements(By.CLASS_NAME, \"sec-feedback-index\")\n",
    "    category_names = []\n",
    "    urls = []\n",
    "\n",
    "    for cat in categories:\n",
    "        curr = cat.find_element(By.TAG_NAME,\"a\")\n",
    "\n",
    "        #if curr.text in hot_categories:\n",
    "        category_names.append((curr.text))\n",
    "        urls.append(curr.get_attribute('href'))\n",
    "        \n",
    "\n",
    "    df = pd.DataFrame({\"Category Name\": category_names, \"URL\": urls, \"Total Reivews\": -1, \"Is Relavent\": 0, \"Scanned\": 0})\n",
    "    df.to_csv(\"data\\\\all_categories.csv\", index=False, encoding = 'utf-8-sig')"
   ]
  },
  {
   "cell_type": "code",
   "execution_count": 51,
   "metadata": {},
   "outputs": [],
   "source": [
    "#df_cat = pd.read_csv(\"data\\\\all_categories.csv\")\n",
    "# this is omer\n",
    "\n",
    "def Update_Total_Reivews(df):\n",
    "\n",
    "    for index, url  in enumerate(df[\"URL\"]):\n",
    "        driver.get(url)\n",
    "\n",
    "        total_reviews_XPATH = '/html/body/div[1]/div[1]/div[3]/div[1]/div[4]/div/div[1]/h1'\n",
    "        total_reviews_raw = driver.find_elements(By.XPATH, total_reviews_XPATH)\n",
    "        total_reviews = 0\n",
    "        total_reviews = int(''.join(re.findall(r'\\b\\d+\\b', total_reviews_raw[0].text)))\n",
    "\n",
    "        df.iloc[index,3] = total_reviews\n",
    "    \n",
    "    df.to_csv(\"data\\\\all_categories.csv\", index=False, encoding = 'utf-8-sig')\n",
    "    df.sort_values(by=['Is Relevant', 'Scanned'],inplace=True, ascending=[False, False])\n",
    "\n",
    "df = pd.read_csv(\"data\\\\all_categories.csv\")\n",
    "Update_Total_Reivews(df)\n",
    "sdfsf"
   ]
  }
 ],
 "metadata": {
  "kernelspec": {
   "display_name": "venv",
   "language": "python",
   "name": "python3"
  },
  "language_info": {
   "codemirror_mode": {
    "name": "ipython",
    "version": 3
   },
   "file_extension": ".py",
   "mimetype": "text/x-python",
   "name": "python",
   "nbconvert_exporter": "python",
   "pygments_lexer": "ipython3",
   "version": "3.10.6"
  },
  "orig_nbformat": 4,
  "vscode": {
   "interpreter": {
    "hash": "e1bcf6aa5089fc5c5898a08ac643fd6d5eb64a5e1b049103d6b5e195c1f1aa1f"
   }
  }
 },
 "nbformat": 4,
 "nbformat_minor": 2
}
