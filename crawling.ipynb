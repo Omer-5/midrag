{
 "cells": [
  {
   "cell_type": "code",
<<<<<<< HEAD
   "execution_count": 18,
=======
   "execution_count": 7,
>>>>>>> ac0a5bead6773536ff7645e3cdc604dc0bf9c414
   "metadata": {},
   "outputs": [],
   "source": [
    "from selenium import webdriver\n",
    "from selenium.webdriver.common.by import By\n",
    " \n",
<<<<<<< HEAD
    "driver = webdriver.Firefox()"
=======
    " \n",
    "driver = webdriver.Firefox()\n",
    "driver.get(\"https://www.midrag.co.il/Content/MainFeedbacksIndex\")\n",
    "\n"
>>>>>>> ac0a5bead6773536ff7645e3cdc604dc0bf9c414
   ]
  },
  {
   "cell_type": "code",
<<<<<<< HEAD
   "execution_count": 19,
=======
   "execution_count": 17,
>>>>>>> ac0a5bead6773536ff7645e3cdc604dc0bf9c414
   "metadata": {},
   "outputs": [
    {
     "name": "stdout",
     "output_type": "stream",
     "text": [
      "שרותי הובלות: https://www.midrag.co.il/Content/SecFeedbacksIndex/1\n",
      "עבודות איטום וזיפות: https://www.midrag.co.il/Content/SecFeedbacksIndex/16\n",
      "שיפוצים ועבודות צבע: https://www.midrag.co.il/Content/SecFeedbacksIndex/11\n",
      "התקנה ותיקון מזגנים: https://www.midrag.co.il/Content/SecFeedbacksIndex/18\n",
      "דודי שמש וחשמל: https://www.midrag.co.il/Content/SecFeedbacksIndex/27\n",
      "עבודות צבע וטיח: https://www.midrag.co.il/Content/SecFeedbacksIndex/70\n",
      "שרותי אינסטלציה: https://www.midrag.co.il/Content/SecFeedbacksIndex/4\n",
      "עבודות אלומיניום: https://www.midrag.co.il/Content/SecFeedbacksIndex/87\n",
      "מוסכים: https://www.midrag.co.il/Content/SecFeedbacksIndex/10\n",
      "עבודות ניקיון ופוליש: https://www.midrag.co.il/Content/SecFeedbacksIndex/25\n",
      "תיקון תריסים וחלונות: https://www.midrag.co.il/Content/SecFeedbacksIndex/26\n",
      "תיקון מוצרי חשמל: https://www.midrag.co.il/Content/SecFeedbacksIndex/19\n",
      "הדברת מזיקים: https://www.midrag.co.il/Content/SecFeedbacksIndex/15\n",
      "עבודות גינון: https://www.midrag.co.il/Content/SecFeedbacksIndex/30\n",
      "שרותי מנעולנים: https://www.midrag.co.il/Content/SecFeedbacksIndex/21\n",
      "עבודות נגרות: https://www.midrag.co.il/Content/SecFeedbacksIndex/95\n",
      "בדק בית: https://www.midrag.co.il/Content/SecFeedbacksIndex/78\n",
      "עבודות חשמל: https://www.midrag.co.il/Content/SecFeedbacksIndex/5\n",
      "גגות: https://www.midrag.co.il/Content/SecFeedbacksIndex/29\n",
      "פרקטים ושטיחים: https://www.midrag.co.il/Content/SecFeedbacksIndex/49\n",
      "מצבות: https://www.midrag.co.il/Content/SecFeedbacksIndex/98\n",
      "מטבחים: https://www.midrag.co.il/Content/SecFeedbacksIndex/14\n",
      "הרחקת יונים: https://www.midrag.co.il/Content/SecFeedbacksIndex/81\n",
      "ניקוי ספות: https://www.midrag.co.il/Content/SecFeedbacksIndex/122\n",
      "עבודות מסגרות: https://www.midrag.co.il/Content/SecFeedbacksIndex/33\n",
      "עבודות זכוכית: https://www.midrag.co.il/Content/SecFeedbacksIndex/56\n",
      "תיקוני מחשבים: https://www.midrag.co.il/Content/SecFeedbacksIndex/7\n",
      "שמאות מקרקעין: https://www.midrag.co.il/Content/SecFeedbacksIndex/66\n",
      "אינטרקום ואזעקות: https://www.midrag.co.il/Content/SecFeedbacksIndex/46\n",
      "איתור נזילות: https://www.midrag.co.il/Content/SecFeedbacksIndex/117\n",
      "טכנאי גז: https://www.midrag.co.il/Content/SecFeedbacksIndex/20\n",
      "עבודות גבס: https://www.midrag.co.il/Content/SecFeedbacksIndex/71\n",
      "ייעוץ משכנתאות: https://www.midrag.co.il/Content/SecFeedbacksIndex/74\n",
      "תיקוני טלויזיות: https://www.midrag.co.il/Content/SecFeedbacksIndex/22\n",
      "עבודות עץ לגינה: https://www.midrag.co.il/Content/SecFeedbacksIndex/57\n",
      "עבודות שיש ואבן: https://www.midrag.co.il/Content/SecFeedbacksIndex/58\n",
      "ריפוד וחידוש רהיטים: https://www.midrag.co.il/Content/SecFeedbacksIndex/59\n",
      "תיקונים קטנים: https://www.midrag.co.il/Content/SecFeedbacksIndex/75\n",
      "פתרונות הצללה: https://www.midrag.co.il/Content/SecFeedbacksIndex/64\n",
      "תיקון אייפונים / סמארטפונים: https://www.midrag.co.il/Content/SecFeedbacksIndex/55\n",
      "דלתות: https://www.midrag.co.il/Content/SecFeedbacksIndex/50\n",
      "תיקון ועיצוב וילונות: https://www.midrag.co.il/Content/SecFeedbacksIndex/60\n",
      "מערכות לרכב: https://www.midrag.co.il/Content/SecFeedbacksIndex/63\n",
      "שירותי דרך וגרירה: https://www.midrag.co.il/Content/SecFeedbacksIndex/62\n",
      "ראיית חשבון: https://www.midrag.co.il/Content/SecFeedbacksIndex/93\n",
      "בדיקות קרינה וסביבה: https://www.midrag.co.il/Content/SecFeedbacksIndex/72\n",
      "פחחות רכב: https://www.midrag.co.il/Content/SecFeedbacksIndex/94\n",
      "עיצוב פנים: https://www.midrag.co.il/Content/SecFeedbacksIndex/67\n",
      "חשמל ומיזוג אוויר לרכב: https://www.midrag.co.il/Content/SecFeedbacksIndex/97\n",
      "שערים חשמליים: https://www.midrag.co.il/Content/SecFeedbacksIndex/108\n",
      "רפואת שיניים: https://www.midrag.co.il/Content/SecFeedbacksIndex/77\n",
      "טפטים: https://www.midrag.co.il/Content/SecFeedbacksIndex/124\n",
      "מנעולני רכב: https://www.midrag.co.il/Content/SecFeedbacksIndex/106\n",
      "שמאי רכב: https://www.midrag.co.il/Content/SecFeedbacksIndex/107\n",
      "עורך דין מקרקעין: https://www.midrag.co.il/Content/SecFeedbacksIndex/99\n",
      "מערכות חימום: https://www.midrag.co.il/Content/SecFeedbacksIndex/52\n",
      "סידור וארגון בתים: https://www.midrag.co.il/Content/SecFeedbacksIndex/86\n",
      "מוסכי אופנועים: https://www.midrag.co.il/Content/SecFeedbacksIndex/32\n",
      "זגגות רכב: https://www.midrag.co.il/Content/SecFeedbacksIndex/88\n",
      "סוכן ביטוח: https://www.midrag.co.il/Content/SecFeedbacksIndex/120\n",
      "אילוף כלבים: https://www.midrag.co.il/Content/SecFeedbacksIndex/110\n",
      "גירים לרכב: https://www.midrag.co.il/Content/SecFeedbacksIndex/61\n",
      "מפקחי בנייה: https://www.midrag.co.il/Content/SecFeedbacksIndex/102\n",
      "איפור ותסרוקות לאירועים: https://www.midrag.co.il/Content/SecFeedbacksIndex/105\n",
      "דיאטניות: https://www.midrag.co.il/Content/SecFeedbacksIndex/115\n",
      "צילום: https://www.midrag.co.il/Content/SecFeedbacksIndex/96\n",
      "פיזיותרפיה: https://www.midrag.co.il/Content/SecFeedbacksIndex/123\n",
      "אטרקציות לאירועים: https://www.midrag.co.il/Content/SecFeedbacksIndex/104\n",
      "קונסטרוקטורים: https://www.midrag.co.il/Content/SecFeedbacksIndex/101\n",
      "תיקון אופניים חשמליות: https://www.midrag.co.il/Content/SecFeedbacksIndex/76\n",
      "הפעלות לימי הולדת: https://www.midrag.co.il/Content/SecFeedbacksIndex/83\n",
      "וטרינרים: https://www.midrag.co.il/Content/SecFeedbacksIndex/84\n",
      "אופטומטריסטים: https://www.midrag.co.il/Content/SecFeedbacksIndex/112\n",
      "קייטרינג: https://www.midrag.co.il/Content/SecFeedbacksIndex/31\n",
      "קוסמטיקאיות: https://www.midrag.co.il/Content/SecFeedbacksIndex/13\n",
      "קבלני שלד: https://www.midrag.co.il/Content/SecFeedbacksIndex/100\n"
     ]
    }
   ],
   "source": [
<<<<<<< HEAD
    "# Extract all categories links and names\n",
    "driver.get(\"https://www.midrag.co.il/Content/MainFeedbacksIndex\")\n",
    "\n",
    "categories = driver.find_elements(By.CLASS_NAME, \"sec-feedback-index\")\n",
    "for cat in categories:\n",
    "    curr = cat.find_element(By.TAG_NAME,\"a\")\n",
    "    url = curr.get_attribute('href')\n",
=======
    "categories = driver.find_elements(By.CLASS_NAME, \"sec-feedback-index\")\n",
    "for cat in categories:\n",
    "    curr = cat.find_element(By.TAG_NAME,\"a\")\n",
    "    url =curr.get_attribute('href')\n",
>>>>>>> ac0a5bead6773536ff7645e3cdc604dc0bf9c414
    "    name = curr.text\n",
    "    print(name + \": \"+url)"
   ]
  }
 ],
 "metadata": {
  "kernelspec": {
   "display_name": "venv",
   "language": "python",
   "name": "python3"
  },
  "language_info": {
   "codemirror_mode": {
    "name": "ipython",
    "version": 3
   },
   "file_extension": ".py",
   "mimetype": "text/x-python",
   "name": "python",
   "nbconvert_exporter": "python",
   "pygments_lexer": "ipython3",
   "version": "3.10.6"
  },
  "orig_nbformat": 4,
  "vscode": {
   "interpreter": {
    "hash": "e1bcf6aa5089fc5c5898a08ac643fd6d5eb64a5e1b049103d6b5e195c1f1aa1f"
   }
  }
 },
 "nbformat": 4,
 "nbformat_minor": 2
}
