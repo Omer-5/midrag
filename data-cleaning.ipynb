{
 "cells": [
  {
   "cell_type": "code",
   "execution_count": 8,
   "metadata": {},
   "outputs": [],
   "source": [
    "import pandas as pd\n",
    "from utils import Save_CSV, Append_Or_Create_CSV_By_Name\n",
    "import os"
   ]
  },
  {
   "cell_type": "code",
   "execution_count": 16,
   "metadata": {},
   "outputs": [
    {
     "name": "stderr",
     "output_type": "stream",
     "text": [
      "C:\\Users\\Omer\\AppData\\Local\\Temp\\ipykernel_16452\\2452893455.py:3: DtypeWarning: Columns (7) have mixed types. Specify dtype option on import or set low_memory=False.\n",
      "  df = pd.read_csv(f\"data/reviews_part_1.{i}.csv\")\n",
      "C:\\Users\\Omer\\AppData\\Local\\Temp\\ipykernel_16452\\2452893455.py:3: DtypeWarning: Columns (7) have mixed types. Specify dtype option on import or set low_memory=False.\n",
      "  df = pd.read_csv(f\"data/reviews_part_1.{i}.csv\")\n"
     ]
    },
    {
     "name": "stdout",
     "output_type": "stream",
     "text": [
      "['דודי שמש וחשמל', 'שרותי מנעולנים', 'שרותי הובלות', 'התקנה ותיקון מזגנים']\n"
     ]
    }
   ],
   "source": [
    "categories_list = []\n",
    "\n",
    "for i in range(0,4):\n",
    "    df = pd.read_csv(f\"data/reviews_part_1.{i}.csv\")\n",
    "    for cat in df.Category.unique():\n",
    "        if cat not in categories_list: \n",
    "            categories_list.append(cat)\n",
    "        cat_df = df[df['Category'] == cat]\n",
    "        # print(cat)\n",
    "        # Append_Or_Create_CSV_By_Name(f\"{cat}.csv\", cat_df)\n",
    "\n",
    "print(categories_list)"
   ]
  },
  {
   "cell_type": "code",
   "execution_count": 18,
   "metadata": {},
   "outputs": [
    {
     "name": "stderr",
     "output_type": "stream",
     "text": [
      "C:\\Users\\Omer\\AppData\\Local\\Temp\\ipykernel_16452\\3192907318.py:2: DtypeWarning: Columns (7) have mixed types. Specify dtype option on import or set low_memory=False.\n",
      "  df = pd.read_csv(f\"data/{cat}.csv\")\n"
     ]
    }
   ],
   "source": [
    "for cat in categories_list:\n",
    "    df = pd.read_csv(f\"data/{cat}.csv\")\n",
    "    df.drop_duplicates(subset=['Date','Customer Name','Review', 'Professional SysID'], keep='first', inplace=True)\n",
    "    Save_CSV(cat+\".csv\", df)"
   ]
  },
  {
   "cell_type": "code",
   "execution_count": null,
   "metadata": {},
   "outputs": [],
   "source": [
    "# Merge Same Categories CSV's \n",
    "\n",
    "df = pd.read_csv(\"data\\\\התקנה ותיקון מזגנים.csv\")\n",
    "df2 = pd.read_csv(\"data\\\\AirConditioners.csv\")\n",
    "\n",
    "frames = [df, df2]\n",
    "\n",
    "df3 = pd.concat(frames)\n",
    "df3_new = df3.drop_duplicates(subset=['Date','Customer Name','Review', 'Professional SysID'],keep='first')\n",
    "\n",
    "Save_CSV('התקנה ותיקון מזגנים.csv', df3_new)\n",
    "\n",
    "print(f'{df3.shape[0]}, {df3.shape[0]}')\n"
   ]
  }
 ],
 "metadata": {
  "kernelspec": {
   "display_name": "Python 3.10.5 ('venv': venv)",
   "language": "python",
   "name": "python3"
  },
  "language_info": {
   "codemirror_mode": {
    "name": "ipython",
    "version": 3
   },
   "file_extension": ".py",
   "mimetype": "text/x-python",
   "name": "python",
   "nbconvert_exporter": "python",
   "pygments_lexer": "ipython3",
   "version": "3.10.5"
  },
  "orig_nbformat": 4,
  "vscode": {
   "interpreter": {
    "hash": "4ab1ab09545bee650d721a7b049b9ed441d6bb9817cd90b7bdfc0883f5dc7f15"
   }
  }
 },
 "nbformat": 4,
 "nbformat_minor": 2
}
