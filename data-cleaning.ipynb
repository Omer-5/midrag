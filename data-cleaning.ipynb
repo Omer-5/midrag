{
 "cells": [
  {
   "cell_type": "code",
   "execution_count": 1,
   "metadata": {},
   "outputs": [],
   "source": [
    "import pandas as pd\n",
    "from utils import *\n",
    "import os\n",
    "import re\n",
    "import math"
   ]
  },
  {
   "cell_type": "code",
   "execution_count": 16,
   "metadata": {},
   "outputs": [
    {
     "name": "stderr",
     "output_type": "stream",
     "text": [
      "C:\\Users\\Omer\\AppData\\Local\\Temp\\ipykernel_16452\\2452893455.py:3: DtypeWarning: Columns (7) have mixed types. Specify dtype option on import or set low_memory=False.\n",
      "  df = pd.read_csv(f\"data/reviews_part_1.{i}.csv\")\n",
      "C:\\Users\\Omer\\AppData\\Local\\Temp\\ipykernel_16452\\2452893455.py:3: DtypeWarning: Columns (7) have mixed types. Specify dtype option on import or set low_memory=False.\n",
      "  df = pd.read_csv(f\"data/reviews_part_1.{i}.csv\")\n"
     ]
    },
    {
     "name": "stdout",
     "output_type": "stream",
     "text": [
      "['דודי שמש וחשמל', 'שרותי מנעולנים', 'שרותי הובלות', 'התקנה ותיקון מזגנים']\n"
     ]
    }
   ],
   "source": [
    "categories_list = []\n",
    "\n",
    "for i in range(0,4):\n",
    "    df = pd.read_csv(f\"data/reviews_part_1.{i}.csv\")\n",
    "    for cat in df.Category.unique():\n",
    "        if cat not in categories_list: \n",
    "            categories_list.append(cat)\n",
    "        cat_df = df[df['Category'] == cat]\n",
    "        # print(cat)\n",
    "        # Append_Or_Create_CSV_By_Name(f\"{cat}.csv\", cat_df)\n",
    "\n",
    "print(categories_list)"
   ]
  },
  {
   "cell_type": "code",
   "execution_count": 18,
   "metadata": {},
   "outputs": [
    {
     "name": "stderr",
     "output_type": "stream",
     "text": [
      "C:\\Users\\Omer\\AppData\\Local\\Temp\\ipykernel_16452\\3192907318.py:2: DtypeWarning: Columns (7) have mixed types. Specify dtype option on import or set low_memory=False.\n",
      "  df = pd.read_csv(f\"data/{cat}.csv\")\n"
     ]
    }
   ],
   "source": [
    "for cat in categories_list:\n",
    "    df = pd.read_csv(f\"data/{cat}.csv\")\n",
    "    df.drop_duplicates(subset=['Date','Customer Name','Review', 'Professional SysID'], keep='first', inplace=True)\n",
    "    Save_CSV(cat+\".csv\", df)"
   ]
  },
  {
   "cell_type": "code",
   "execution_count": null,
   "metadata": {},
   "outputs": [],
   "source": [
    "# Merge Same Categories CSV's \n",
    "\n",
    "df = pd.read_csv(\"data\\\\התקנה ותיקון מזגנים.csv\")\n",
    "df2 = pd.read_csv(\"data\\\\AirConditioners.csv\")\n",
    "\n",
    "frames = [df, df2]\n",
    "\n",
    "df3 = pd.concat(frames)\n",
    "df3_new = df3.drop_duplicates(subset=['Date','Customer Name','Review', 'Professional SysID'],keep='first')\n",
    "\n",
    "Save_CSV('התקנה ותיקון מזגנים.csv', df3_new)\n",
    "\n",
    "print(f'{df3.shape[0]}, {df3.shape[0]}')\n"
   ]
  },
  {
   "cell_type": "code",
   "execution_count": 74,
   "metadata": {},
   "outputs": [
    {
     "name": "stderr",
     "output_type": "stream",
     "text": [
      "C:\\Users\\Omer\\AppData\\Local\\Temp\\ipykernel_16452\\3052088807.py:7: DtypeWarning: Columns (7) have mixed types. Specify dtype option on import or set low_memory=False.\n",
      "  df = pd.read_csv(f\"data/{cat}.csv\")\n"
     ]
    }
   ],
   "source": [
    "# Add 'Year' Column\n",
    "list = Get_All_CSV_Names()\n",
    "\n",
    "for cat in list:\n",
    "    df = pd.read_csv(f\"data/{cat}.csv\") \n",
    "    df['Date'] = pd.to_datetime(df['Date'])\n",
    "    df['Year'] = df['Date'].dt.year\n",
    "    Save_CSV(f\"{cat}.csv\", df)"
   ]
  },
  {
   "cell_type": "code",
   "execution_count": 3,
   "metadata": {},
   "outputs": [
    {
     "name": "stdout",
     "output_type": "stream",
     "text": [
      "שרותי הובלות\n"
     ]
    },
    {
     "name": "stderr",
     "output_type": "stream",
     "text": [
      "C:\\Users\\Omer\\AppData\\Local\\Temp\\ipykernel_16848\\292625568.py:8: DtypeWarning: Columns (7) have mixed types. Specify dtype option on import or set low_memory=False.\n",
      "  df = pd.read_csv(f\"data/{csv}.csv\")\n"
     ]
    },
    {
     "name": "stdout",
     "output_type": "stream",
     "text": [
      "[]\n",
      "1780\n",
      "התקנה ותיקון מזגנים\n",
      "[]\n",
      "2057\n",
      "דודי שמש וחשמל\n",
      "[]\n",
      "476\n",
      "שרותי אינסטלציה\n",
      "[]\n",
      "1465\n",
      "מוסכים\n",
      "[]\n",
      "1189\n",
      "שרותי מנעולנים\n",
      "[]\n",
      "621\n"
     ]
    }
   ],
   "source": [
    "# add region to each review\n",
    "filenames = Get_All_CSV_Names()\n",
    "cities = pd.read_csv(\"data/map/israel_towns.csv\")\n",
    "not_found = []\n",
    "\n",
    "for csv in filenames:\n",
    "    print(csv)\n",
    "    df = pd.read_csv(f\"data/{csv}.csv\")\n",
    "    changes = 0\n",
    "\n",
    "    df[\"Region\"] = None\n",
    "    for i, row in df.iterrows():\n",
    "        city = row[\"Location\"]\n",
    "        if re.search(r\"[\\d]+\", str(city)) or pd.isna(city):\n",
    "            df.at[i, \"Location\"] = \"חסוי\"\n",
    "            df.at[i, \"Region\"] = \"חסוי\"\n",
    "            changes += 1\n",
    "            # print(city)\n",
    "        else:\n",
    "            area = cities[cities[\"Name\"] == city][\"District\"].values\n",
    "            if area.shape[0] > 0:\n",
    "                df.at[i, \"Region\"] = area[0]\n",
    "            else:\n",
    "                not_found.append(city)\n",
    "    Save_CSV(f\"{csv}.CSV\", df)\n",
    "    print(not_found)\n",
    "    print(changes)\n",
    "    # break\n"
   ]
  },
  {
   "cell_type": "code",
   "execution_count": 23,
   "metadata": {},
   "outputs": [
    {
     "name": "stdout",
     "output_type": "stream",
     "text": [
      "שרותי הובלות\n"
     ]
    },
    {
     "name": "stderr",
     "output_type": "stream",
     "text": [
      "C:\\Users\\Omer\\AppData\\Local\\Temp\\ipykernel_2452\\1123147818.py:6: DtypeWarning: Columns (7) have mixed types. Specify dtype option on import or set low_memory=False.\n",
      "  df = pd.read_csv(f\"data/{csv}.csv\")\n"
     ]
    },
    {
     "name": "stdout",
     "output_type": "stream",
     "text": [
      "התקנה ותיקון מזגנים\n",
      "דודי שמש וחשמל\n",
      "שרותי אינסטלציה\n",
      "מוסכים\n",
      "שרותי מנעולנים\n"
     ]
    }
   ],
   "source": [
    "# Handling Customers Names\n",
    "filenames = Get_All_CSV_Names()\n",
    "\n",
    "for csv in filenames:\n",
    "    print(csv)\n",
    "    df = pd.read_csv(f\"data/{csv}.csv\")\n",
    "    df[\"Is Hidden\"] = 0\n",
    "    df[\"Customer Name\"].fillna(value=\"חסוי\", inplace=True)\n",
    "    df.loc[df[\"Customer Name\"].str.contains(\"[א-ת]\\.\\s?[א-ת]\", regex=True), \"Is Hidden\"] = 1\n",
    "    df.loc[df[\"Customer Name\"].str.contains(\"\\d+\", regex=True), \"Is Hidden\"] = 1\n",
    "    df.loc[df[\"Customer Name\"].str.contains(\"חסוי\", regex=True), \"Is Hidden\"] = 1\n",
    "    Save_CSV(f\"{csv}.CSV\", df)\n",
    "# df2 = df.loc[df[\"Customer Name\"].str.contains(\"[א-ת]\\.\\s?[א-ת]\", regex=True)]\n",
    "# print(pd.unique(df2[\"Is Hidden\"]))\n",
    "\n",
    "    \n"
   ]
  },
  {
   "cell_type": "code",
   "execution_count": 59,
   "metadata": {},
   "outputs": [
    {
     "name": "stdout",
     "output_type": "stream",
     "text": [
      "<class 'pandas.core.frame.DataFrame'>\n",
      "RangeIndex: 57770 entries, 0 to 57769\n",
      "Data columns (total 19 columns):\n",
      " #   Column               Non-Null Count  Dtype \n",
      "---  ------               --------------  ----- \n",
      " 0   Date                 57770 non-null  object\n",
      " 1   Category             57770 non-null  object\n",
      " 2   Subcategory          57770 non-null  object\n",
      " 3   Customer Name        57770 non-null  object\n",
      " 4   Location             57770 non-null  object\n",
      " 5   Service Categories   57770 non-null  object\n",
      " 6   Review               57733 non-null  object\n",
      " 7   Overall Score        57770 non-null  int64 \n",
      " 8   Quality Score        57770 non-null  int64 \n",
      " 9   Price Score          57770 non-null  int64 \n",
      " 10  Time Score           57770 non-null  int64 \n",
      " 11  Treatment Score      57770 non-null  int64 \n",
      " 12  Professional SysID   57770 non-null  object\n",
      " 13  Is Active            57770 non-null  int64 \n",
      " 14  Total Prof. Reviews  57770 non-null  object\n",
      " 15  Avg. Score           57770 non-null  object\n",
      " 16  Year                 57770 non-null  int64 \n",
      " 17  Region               57770 non-null  object\n",
      " 18  Is Hidden            57770 non-null  int64 \n",
      "dtypes: int64(8), object(11)\n",
      "memory usage: 8.4+ MB\n",
      "<class 'pandas.core.frame.DataFrame'>\n",
      "RangeIndex: 57770 entries, 0 to 57769\n",
      "Data columns (total 19 columns):\n",
      " #   Column               Non-Null Count  Dtype \n",
      "---  ------               --------------  ----- \n",
      " 0   Date                 57770 non-null  object\n",
      " 1   Category             57770 non-null  object\n",
      " 2   Subcategory          57770 non-null  object\n",
      " 3   Customer Name        57770 non-null  object\n",
      " 4   Location             57770 non-null  object\n",
      " 5   Service Categories   57770 non-null  object\n",
      " 6   Review               57733 non-null  object\n",
      " 7   Overall Score        57770 non-null  int64 \n",
      " 8   Quality Score        57770 non-null  int64 \n",
      " 9   Price Score          57770 non-null  int64 \n",
      " 10  Time Score           57770 non-null  int64 \n",
      " 11  Treatment Score      57770 non-null  int64 \n",
      " 12  Professional SysID   57770 non-null  object\n",
      " 13  Is Active            57770 non-null  int64 \n",
      " 14  Total Prof. Reviews  57770 non-null  object\n",
      " 15  Avg. Score           57770 non-null  object\n",
      " 16  Year                 57770 non-null  int64 \n",
      " 17  Region               57770 non-null  object\n",
      " 18  Is Hidden            57770 non-null  int64 \n",
      "dtypes: int64(8), object(11)\n",
      "memory usage: 8.4+ MB\n"
     ]
    }
   ],
   "source": [
    "# Updaing Missing Scores\n",
    "\n",
    "filenames = Get_All_CSV_Names()\n",
    "\n",
    "for csv in filenames:\n",
    "    df = pd.read_csv(f\"data/{csv}.csv\")\n",
    "\n",
    "    df_temp = df[df[\"Overall Score\"].astype(str).str.isdigit()]\n",
    "    overall_score_mean = round(pd.to_numeric(df2[\"Overall Score\"]).mean())\n",
    "\n",
    "    for i, row in df.iterrows():\n",
    "\n",
    "        if '-' in str(row[\"Overall Score\"]):\n",
    "            df.at[i, \"Overall Score\"]  = overall_score_mean\n",
    "            row[\"Overall Score\"] = overall_score_mean\n",
    "\n",
    "        if '-' in str(row[\"Quality Score\"]):\n",
    "            df.at[i, \"Quality Score\"]  = row[\"Overall Score\"]\n",
    "        if '-' in str(row[\"Price Score\"]):\n",
    "            df.at[i, \"Price Score\"]  = row[\"Overall Score\"]\n",
    "        if '-' in str(row[\"Time Score\"]):\n",
    "            df.at[i, \"Time Score\"]  = row[\"Overall Score\"]\n",
    "        if '-' in str(row[\"Treatment Score\"]):\n",
    "            df.at[i, \"Treatment Score\"]  = row[\"Overall Score\"]\n",
    "    \n",
    "    df[\"Overall Score\"] = pd.to_numeric(df[\"Overall Score\"])\n",
    "    df[\"Quality Score\"] = pd.to_numeric(df[\"Quality Score\"])\n",
    "    df[\"Price Score\"] = pd.to_numeric(df[\"Price Score\"])\n",
    "    df[\"Time Score\"] = pd.to_numeric(df[\"Time Score\"])\n",
    "    df[\"Treatment Score\"] = pd.to_numeric(df[\"Treatment Score\"])\n",
    "    \n",
    "    Save_CSV(f\"{csv}.CSV\", df)\n",
    "\n"
   ]
  }
 ],
 "metadata": {
  "kernelspec": {
   "display_name": "Python 3.10.5 ('venv': venv)",
   "language": "python",
   "name": "python3"
  },
  "language_info": {
   "codemirror_mode": {
    "name": "ipython",
    "version": 3
   },
   "file_extension": ".py",
   "mimetype": "text/x-python",
   "name": "python",
   "nbconvert_exporter": "python",
   "pygments_lexer": "ipython3",
   "version": "3.10.5"
  },
  "orig_nbformat": 4,
  "vscode": {
   "interpreter": {
    "hash": "4ab1ab09545bee650d721a7b049b9ed441d6bb9817cd90b7bdfc0883f5dc7f15"
   }
  }
 },
 "nbformat": 4,
 "nbformat_minor": 2
}
