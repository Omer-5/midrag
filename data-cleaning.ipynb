{
 "cells": [
  {
   "cell_type": "code",
   "execution_count": 1,
   "metadata": {},
   "outputs": [],
   "source": [
    "import pandas as pd\n",
    "from utils import *"
   ]
  },
  {
   "cell_type": "code",
   "execution_count": 16,
   "metadata": {},
   "outputs": [
    {
     "name": "stderr",
     "output_type": "stream",
     "text": [
      "C:\\Users\\Omer\\AppData\\Local\\Temp\\ipykernel_16452\\2452893455.py:3: DtypeWarning: Columns (7) have mixed types. Specify dtype option on import or set low_memory=False.\n",
      "  df = pd.read_csv(f\"data/reviews_part_1.{i}.csv\")\n",
      "C:\\Users\\Omer\\AppData\\Local\\Temp\\ipykernel_16452\\2452893455.py:3: DtypeWarning: Columns (7) have mixed types. Specify dtype option on import or set low_memory=False.\n",
      "  df = pd.read_csv(f\"data/reviews_part_1.{i}.csv\")\n"
     ]
    },
    {
     "name": "stdout",
     "output_type": "stream",
     "text": [
      "['דודי שמש וחשמל', 'שרותי מנעולנים', 'שרותי הובלות', 'התקנה ותיקון מזגנים']\n"
     ]
    }
   ],
   "source": [
    "# Split each category to its own CSV file from files the crawler created\n",
    "categories_list = []\n",
    "\n",
    "for i in range(0,4):\n",
    "    df = pd.read_csv(f\"data/reviews_part_1.{i}.csv\")\n",
    "    for cat in df.Category.unique():\n",
    "        if cat not in categories_list: \n",
    "            categories_list.append(cat)\n",
    "        cat_df = df[df['Category'] == cat]\n",
    "        # print(cat)\n",
    "        # Append_Or_Create_CSV_By_Name(f\"{cat}.csv\", cat_df)\n",
    "\n",
    "print(categories_list)"
   ]
  },
  {
   "cell_type": "code",
   "execution_count": 18,
   "metadata": {},
   "outputs": [
    {
     "name": "stderr",
     "output_type": "stream",
     "text": [
      "C:\\Users\\Omer\\AppData\\Local\\Temp\\ipykernel_16452\\3192907318.py:2: DtypeWarning: Columns (7) have mixed types. Specify dtype option on import or set low_memory=False.\n",
      "  df = pd.read_csv(f\"data/{cat}.csv\")\n"
     ]
    }
   ],
   "source": [
    "# Dropping duplicated reviews. (in the website a review is visible in all its sub-categories so we drop those duplications)\n",
    "for cat in categories_list:\n",
    "    df = pd.read_csv(f\"data/{cat}.csv\")\n",
    "    df.drop_duplicates(subset=['Date','Customer Name','Review', 'Professional SysID'], keep='first', inplace=True)\n",
    "    Save_CSV(cat+\".csv\", df)"
   ]
  },
  {
   "cell_type": "code",
   "execution_count": null,
   "metadata": {},
   "outputs": [],
   "source": [
    "# Merge Same Categories CSV's \n",
    "\n",
    "df = pd.read_csv(\"data\\\\התקנה ותיקון מזגנים.csv\")\n",
    "df2 = pd.read_csv(\"data\\\\AirConditioners.csv\")\n",
    "\n",
    "frames = [df, df2]\n",
    "\n",
    "df3 = pd.concat(frames)\n",
    "df3_new = df3.drop_duplicates(subset=['Date','Customer Name','Review', 'Professional SysID'],keep='first')\n",
    "\n",
    "Save_CSV('התקנה ותיקון מזגנים.csv', df3_new)\n",
    "\n",
    "print(f'{df3.shape[0]}, {df3.shape[0]}')\n"
   ]
  },
  {
   "cell_type": "code",
   "execution_count": 74,
   "metadata": {},
   "outputs": [
    {
     "name": "stderr",
     "output_type": "stream",
     "text": [
      "C:\\Users\\Omer\\AppData\\Local\\Temp\\ipykernel_16452\\3052088807.py:7: DtypeWarning: Columns (7) have mixed types. Specify dtype option on import or set low_memory=False.\n",
      "  df = pd.read_csv(f\"data/{cat}.csv\")\n"
     ]
    }
   ],
   "source": [
    "# Add 'Year' Column\n",
    "list = Get_All_CSV_Names()\n",
    "\n",
    "for cat in list:\n",
    "    df = pd.read_csv(f\"data/{cat}.csv\") \n",
    "    df['Date'] = pd.to_datetime(df['Date'])\n",
    "    df['Year'] = df['Date'].dt.year\n",
    "    Save_CSV(f\"{cat}.csv\", df)"
   ]
  },
  {
   "cell_type": "code",
   "execution_count": 3,
   "metadata": {},
   "outputs": [
    {
     "name": "stdout",
     "output_type": "stream",
     "text": [
      "שרותי הובלות\n"
     ]
    },
    {
     "name": "stderr",
     "output_type": "stream",
     "text": [
      "C:\\Users\\Omer\\AppData\\Local\\Temp\\ipykernel_16848\\292625568.py:8: DtypeWarning: Columns (7) have mixed types. Specify dtype option on import or set low_memory=False.\n",
      "  df = pd.read_csv(f\"data/{csv}.csv\")\n"
     ]
    },
    {
     "name": "stdout",
     "output_type": "stream",
     "text": [
      "[]\n",
      "1780\n",
      "התקנה ותיקון מזגנים\n",
      "[]\n",
      "2057\n",
      "דודי שמש וחשמל\n",
      "[]\n",
      "476\n",
      "שרותי אינסטלציה\n",
      "[]\n",
      "1465\n",
      "מוסכים\n",
      "[]\n",
      "1189\n",
      "שרותי מנעולנים\n",
      "[]\n",
      "621\n"
     ]
    }
   ],
   "source": [
    "# Add region to each review (across all categories) from a CSV file we downloaded from \"https://data.gov.il/dataset/citiesandsettelments\"\n",
    "# if the \"Location\" includes digits are null we set the region as \"חסוי\" otherwise we set the region based on the CSV we downloaded\n",
    "\n",
    "filenames = Get_All_CSV_Names()\n",
    "cities = pd.read_csv(\"data/map/israel_towns.csv\")\n",
    "not_found = []\n",
    "\n",
    "for csv in filenames:\n",
    "    print(csv)\n",
    "    df = pd.read_csv(f\"data/{csv}.csv\")\n",
    "    changes = 0\n",
    "\n",
    "    df[\"Region\"] = None\n",
    "    for i, row in df.iterrows():\n",
    "        city = row[\"Location\"]\n",
    "        if re.search(r\"[\\d]+\", str(city)) or pd.isna(city):\n",
    "            df.at[i, \"Location\"] = \"חסוי\"\n",
    "            df.at[i, \"Region\"] = \"חסוי\"\n",
    "            changes += 1\n",
    "            # print(city)\n",
    "        else:\n",
    "            area = cities[cities[\"Name\"] == city][\"District\"].values\n",
    "            if area.shape[0] > 0:\n",
    "                df.at[i, \"Region\"] = area[0]\n",
    "            else:\n",
    "                not_found.append(city)\n",
    "    Save_CSV(f\"{csv}.CSV\", df)\n",
    "    print(not_found)\n",
    "    print(changes)\n",
    "    # break\n"
   ]
  },
  {
   "cell_type": "code",
   "execution_count": 23,
   "metadata": {},
   "outputs": [
    {
     "name": "stdout",
     "output_type": "stream",
     "text": [
      "שרותי הובלות\n"
     ]
    },
    {
     "name": "stderr",
     "output_type": "stream",
     "text": [
      "C:\\Users\\Omer\\AppData\\Local\\Temp\\ipykernel_2452\\1123147818.py:6: DtypeWarning: Columns (7) have mixed types. Specify dtype option on import or set low_memory=False.\n",
      "  df = pd.read_csv(f\"data/{csv}.csv\")\n"
     ]
    },
    {
     "name": "stdout",
     "output_type": "stream",
     "text": [
      "התקנה ותיקון מזגנים\n",
      "דודי שמש וחשמל\n",
      "שרותי אינסטלציה\n",
      "מוסכים\n",
      "שרותי מנעולנים\n"
     ]
    }
   ],
   "source": [
    "# Creating \"Is Hidden\" column if the \"Customer Name\" is not clearly visible (ex: names with first letter of first and last names or random digits)\n",
    "filenames = Get_All_CSV_Names()\n",
    "\n",
    "for csv in filenames:\n",
    "    print(csv)\n",
    "    df = pd.read_csv(f\"data/{csv}.csv\")\n",
    "    df[\"Is Hidden\"] = 0\n",
    "    df[\"Customer Name\"].fillna(value=\"חסוי\", inplace=True)\n",
    "    df.loc[df[\"Customer Name\"].str.contains(\"[א-ת]\\.\\s?[א-ת]\", regex=True), \"Is Hidden\"] = 1\n",
    "    df.loc[df[\"Customer Name\"].str.contains(\"\\d+\", regex=True), \"Is Hidden\"] = 1\n",
    "    df.loc[df[\"Customer Name\"].str.contains(\"חסוי\", regex=True), \"Is Hidden\"] = 1\n",
    "    Save_CSV(f\"{csv}.CSV\", df)\n",
    "# df2 = df.loc[df[\"Customer Name\"].str.contains(\"[א-ת]\\.\\s?[א-ת]\", regex=True)]\n",
    "# print(pd.unique(df2[\"Is Hidden\"]))\n",
    "\n",
    "    \n"
   ]
  },
  {
   "cell_type": "code",
   "execution_count": 3,
   "metadata": {},
   "outputs": [],
   "source": [
    "# Filling missing Scores based on the mean of the column so that the average will not affected\n",
    "# After all the values in the score columns are integers we convert the column type\n",
    "\n",
    "filenames = Get_All_CSV_Names()\n",
    "\n",
    "for csv in filenames:\n",
    "    df = pd.read_csv(f\"data/{csv}.csv\")\n",
    "\n",
    "    df_temp = df[df[\"Overall Score\"].astype(str).str.isdigit()]\n",
    "    overall_score_mean = round(pd.to_numeric(df_temp[\"Overall Score\"]).mean())\n",
    "    \n",
    "    df_temp = df[df[\"Quality Score\"].astype(str).str.isdigit()]\n",
    "    quality_score_mean = round(pd.to_numeric(df_temp[\"Quality Score\"]).mean())\n",
    "    \n",
    "    df_temp = df[df[\"Price Score\"].astype(str).str.isdigit()]\n",
    "    price_score_mean = round(pd.to_numeric(df_temp[\"Price Score\"]).mean())\n",
    "\n",
    "    df_temp = df[df[\"Time Score\"].astype(str).str.isdigit()]\n",
    "    time_score_mean = round(pd.to_numeric(df_temp[\"Time Score\"]).mean())\n",
    "\n",
    "    df_temp = df[df[\"Treatment Score\"].astype(str).str.isdigit()]\n",
    "    treatment_score_mean = round(pd.to_numeric(df_temp[\"Treatment Score\"]).mean())\n",
    "\n",
    "    for i, row in df.iterrows():\n",
    "\n",
    "        if '-' in str(row[\"Overall Score\"]):\n",
    "            df.at[i, \"Overall Score\"]  = overall_score_mean\n",
    "        if '-' in str(row[\"Quality Score\"]):\n",
    "            df.at[i, \"Quality Score\"]  = overall_score_mean\n",
    "        if '-' in str(row[\"Price Score\"]):\n",
    "            df.at[i, \"Price Score\"]  = price_score_mean\n",
    "        if '-' in str(row[\"Time Score\"]):\n",
    "            df.at[i, \"Time Score\"]  = time_score_mean\n",
    "        if '-' in str(row[\"Treatment Score\"]):\n",
    "            df.at[i, \"Treatment Score\"]  = treatment_score_mean\n",
    "    \n",
    "    df[\"Overall Score\"] = pd.to_numeric(df[\"Overall Score\"])\n",
    "    df[\"Quality Score\"] = pd.to_numeric(df[\"Quality Score\"])\n",
    "    df[\"Price Score\"] = pd.to_numeric(df[\"Price Score\"])\n",
    "    df[\"Time Score\"] = pd.to_numeric(df[\"Time Score\"])\n",
    "    df[\"Treatment Score\"] = pd.to_numeric(df[\"Treatment Score\"])\n",
    "    \n",
    "    Save_CSV(f\"{csv}.CSV\", df)\n",
    "\n"
   ]
  },
  {
   "cell_type": "code",
   "execution_count": null,
   "metadata": {},
   "outputs": [],
   "source": [
    "# Creating a new CSV for each category that includes the total number of reviews per year\n",
    "\n",
    "categories_csv = Get_All_CSV_Names()\n",
    "row = 0\n",
    "index = 0\n",
    "for cat in categories_csv:\n",
    "    df = pd.read_csv(f\"data/{cat}.csv\")\n",
    "    \n",
    "    df_dict = pd.DataFrame.from_dict(df[\"Year\"].value_counts().to_dict(), orient=\"index\", columns=[\"Total Reviews\"])\n",
    "    df_dict.reset_index(inplace=True)\n",
    "    df_dict.rename(columns={'index':'Year'}, inplace = True)\n",
    "    df_dict.sort_values(by=\"Year\", inplace=True)\n",
    "    df_dict['Year'] = df_dict[\"Year\"].astype(str)\n",
    "   \n",
    "    if index == 2:\n",
    "        row = 1\n",
    "        index = 0\n",
    "    else:\n",
    "        index+=1\n",
    "    \n",
    "    Save_CSV(f\"/ML/summery_{cat}.csv\", df_dict)"
   ]
  }
 ],
 "metadata": {
  "kernelspec": {
   "display_name": "venv",
   "language": "python",
   "name": "python3"
  },
  "language_info": {
   "codemirror_mode": {
    "name": "ipython",
    "version": 3
   },
   "file_extension": ".py",
   "mimetype": "text/x-python",
   "name": "python",
   "nbconvert_exporter": "python",
   "pygments_lexer": "ipython3",
   "version": "3.10.6"
  },
  "orig_nbformat": 4,
  "vscode": {
   "interpreter": {
    "hash": "cd36dd77b8d5272bb16adc8193d6768a1917efb79683da8e67ffced7c9cc894d"
   }
  }
 },
 "nbformat": 4,
 "nbformat_minor": 2
}
