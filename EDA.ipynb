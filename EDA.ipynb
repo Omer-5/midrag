{
 "cells": [
  {
   "cell_type": "code",
   "execution_count": null,
   "metadata": {},
   "outputs": [],
   "source": [
    "import pandas as pd\n",
    "import requests\n",
    "import folium\n",
    "import numpy as np"
   ]
  },
  {
   "cell_type": "code",
   "execution_count": null,
   "metadata": {},
   "outputs": [],
   "source": [
    "# Create a Map that takes array of [locations, total_reviews] as an input, gets the Geo-Location of each location (using OpenStreeMap API) and Pin-Points the Top-5 Locations with the most reviews\n",
    "\n",
    "import requests\n",
    "\n",
    "map = folium.Map(location=[31.786060, 35.200779], zoom_start=7)\n",
    "\n",
    "df = pd.read_csv(\"data\\\\reviews.csv\")\n",
    "\n",
    "df['Location'] = df['Location'].astype(str)\n",
    "df['Location'] = df['Location'][~df['Location'].str.contains(r'\\d')]\n",
    "places = df['Location'].value_counts().to_dict()\n",
    "\n",
    "places_dict = []\n",
    "for location, total_reviews in places.items():\n",
    "    places_dict.append({'name': location, 'total_reviews': total_reviews})\n",
    "\n",
    "places_dict= sorted(places_dict, key=lambda x: x['total_reviews'], reverse=True)\n",
    "\n",
    "for place in places_dict[:5]:\n",
    "    popup = folium.Popup(f'<center><font size=\"2\"><b>{place[\"name\"]}</b></font><br><u>ביקורות</u>: {place[\"total_reviews\"]}', max_width=300)\n",
    "\n",
    "    url = f'https://nominatim.openstreetmap.org/search?q={place[\"name\"]}+Israel&format=json'\n",
    "    response = requests.get(url).json()\n",
    "    if response:\n",
    "        lat = response[0]['lat']\n",
    "        lon = response[0]['lon']\n",
    "\n",
    "    folium.Marker(location=[lat, lon], popup=popup).add_to(map)\n",
    "\n",
    "# map"
   ]
  },
  {
   "cell_type": "code",
   "execution_count": null,
   "metadata": {},
   "outputs": [],
   "source": [
    "# Checking Population of each Town in Israel (after getting the Geo-Location of them)\n",
    "df_towns = pd.read_csv(\"data\\\\israel_towns.csv\")\n",
    "\n",
    "map = folium.Map(location=[31.786060, 35.200779], zoom_start=7)\n",
    "\n",
    "for index, row in df_towns.iterrows():\n",
    "    if( pd.notnull(row['Geo_lat']) & pd.notnull(row['Geo_lon']) ):\n",
    "        popup = folium.Popup(f'<center><font size=\"2\"><b>{row[\"Name\"]}</b></font><br><u>תושבים:</u>: {row[\"Population\"]}', max_width=300)\n",
    "\n",
    "        folium.Marker(location=[row[\"Geo_lat\"], row[\"Geo_lon\"]], popup=popup).add_to(map)\n",
    "\n",
    "# map"
   ]
  }
 ],
 "metadata": {
  "kernelspec": {
   "display_name": "venv",
   "language": "python",
   "name": "python3"
  },
  "language_info": {
   "name": "python",
   "version": "3.10.6 (tags/v3.10.6:9c7b4bd, Aug  1 2022, 21:53:49) [MSC v.1932 64 bit (AMD64)]"
  },
  "orig_nbformat": 4,
  "vscode": {
   "interpreter": {
    "hash": "cd36dd77b8d5272bb16adc8193d6768a1917efb79683da8e67ffced7c9cc894d"
   }
  }
 },
 "nbformat": 4,
 "nbformat_minor": 2
}
